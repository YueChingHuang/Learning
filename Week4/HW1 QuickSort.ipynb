{
 "cells": [
  {
   "cell_type": "markdown",
   "metadata": {},
   "source": [
    "# HW1: Quick Sort\n"
   ]
  },
  {
   "cell_type": "markdown",
   "metadata": {},
   "source": [
    "2019.10.04-10.18"
   ]
  },
  {
   "cell_type": "markdown",
   "metadata": {},
   "source": [
    "## What's quick sort ?"
   ]
  },
  {
   "cell_type": "markdown",
   "metadata": {},
   "source": [
    "Quick sort（快速排序法）運用到 Divide 和 conquer 的概念，將欲排放順序的數列一分為二，\n",
    "不斷重複，最終完成排序。(我將它比喻成將日常生活的大問題細分成各個小問題處理，因此，分成小問題前，需要把大問題切分)，\n",
    "首先在數列中任意挑選一個數，稱為pivot(基準點)。\n",
    "\n",
    "步驟如下：\n",
    "\n",
    "* pivot左邊的數都比pivot小\n",
    "* pivot右邊的數都比pivot大\n",
    "* 視所有pivot左邊的數為「new list1」，所有pivot右邊的數視為「new list2」\n",
    "* 分別重複選pivot、調整數列\n",
    "* 直到分不出任何新數列為止\n"
   ]
  },
  {
   "cell_type": "markdown",
   "metadata": {},
   "source": [
    "![jupyter](./quicksort.jpg)"
   ]
  },
  {
   "cell_type": "code",
   "execution_count": 8,
   "metadata": {},
   "outputs": [
    {
     "data": {
      "text/plain": [
       "[1, 5, 11, 26, 37, 48, 61]"
      ]
     },
     "execution_count": 8,
     "metadata": {},
     "output_type": "execute_result"
    }
   ],
   "source": [
    "test_list=[26,5,37,1,61,11,48]\n",
    "\n",
    "def quicksort(list): \n",
    "    smaller = []\n",
    "    bigger = []\n",
    "    keylist = []\n",
    "\n",
    "    #設定如果數列只有一個數或沒有數，回到數列本身，不至於出現先天條件錯誤\n",
    "    if len(list) <= 1:\n",
    "        return list\n",
    "\n",
    "    else:\n",
    "        key = list[0]  #取左邊第一個數為key值(pivot)\n",
    "        for i in list:\n",
    "            if i < key: #比key值小的數 → new list1\n",
    "                smaller.append(i)\n",
    "            elif i > key: #比key值大的數 → new list2\n",
    "                bigger.append(i)\n",
    "            else:         #與key值相等的數\n",
    "                keylist.append(i)\n",
    "\n",
    "    smaller = quicksort(smaller) #new list1\n",
    "    bigger = quicksort(bigger)   #new list2\n",
    "    return smaller + keylist + bigger #三個新數列排列即完成快速排序\n",
    "\n",
    "quicksort(test_list)"
   ]
  }
 ],
 "metadata": {
  "kernelspec": {
   "display_name": "Python 3",
   "language": "python",
   "name": "python3"
  },
  "language_info": {
   "codemirror_mode": {
    "name": "ipython",
    "version": 3
   },
   "file_extension": ".py",
   "mimetype": "text/x-python",
   "name": "python",
   "nbconvert_exporter": "python",
   "pygments_lexer": "ipython3",
   "version": "3.7.1"
  }
 },
 "nbformat": 4,
 "nbformat_minor": 2
}
